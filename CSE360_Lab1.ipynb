{
  "nbformat": 4,
  "nbformat_minor": 0,
  "metadata": {
    "colab": {
      "provenance": []
    },
    "kernelspec": {
      "name": "python3",
      "display_name": "Python 3"
    },
    "language_info": {
      "name": "python"
    }
  },
  "cells": [
    {
      "cell_type": "code",
      "execution_count": 1,
      "metadata": {
        "colab": {
          "base_uri": "https://localhost:8080/"
        },
        "id": "0gP1BEnYxGR1",
        "outputId": "8f9d447a-b7b0-47c9-d1f3-bd97457f4cb5"
      },
      "outputs": [
        {
          "output_type": "stream",
          "name": "stdout",
          "text": [
            "Populating the interactive namespace from numpy and matplotlib\n"
          ]
        }
      ],
      "source": [
        "pylab inline"
      ]
    },
    {
      "cell_type": "code",
      "source": [
        "# Perfect sensor\n",
        "def sense(x):\n",
        "    return x"
      ],
      "metadata": {
        "id": "zCtmaoXT1LX4"
      },
      "execution_count": 2,
      "outputs": []
    },
    {
      "cell_type": "code",
      "source": [
        "def simulate(Δt, x, u):\n",
        "    x += Δt * u\n",
        "    return x"
      ],
      "metadata": {
        "id": "zXLhXvv01OYT"
      },
      "execution_count": 3,
      "outputs": []
    },
    {
      "cell_type": "code",
      "source": [
        "def control(t, y):\n",
        "    ### WRITE YOUR CONTROL POLICY HERE:\n",
        "    ux = 4*cos(t)\n",
        "    uy = 2*sin(t)\n",
        "    return array([ux, uy])"
      ],
      "metadata": {
        "id": "OAilQs3-1Okl"
      },
      "execution_count": 91,
      "outputs": []
    },
    {
      "cell_type": "code",
      "source": [
        "tf = 30.\n",
        "Δt = 0.1    # Time step\n",
        "time = linspace(0.,tf, int(tf / Δt) + 1)  # Time interval\n",
        "\n",
        "\n",
        "# Initial conditions\n",
        "x = array([3., 0.])\n",
        "x_log = [copy(x)]\n",
        "\n",
        "for t in time:\n",
        "    y = sense(x)\n",
        "    u = control(t, y)    \n",
        "    x = simulate(Δt, x, u)\n",
        "    x_log.append(copy(x))\n",
        "    \n",
        "x_log = array(x_log)"
      ],
      "metadata": {
        "id": "MEoPpLY11Ot1"
      },
      "execution_count": 92,
      "outputs": []
    },
    {
      "cell_type": "code",
      "source": [
        "grid()\n",
        "plot(x_log[:,0], x_log[:,1])"
      ],
      "metadata": {
        "colab": {
          "base_uri": "https://localhost:8080/",
          "height": 283
        },
        "id": "qWx264jK1WZK",
        "outputId": "a2bbf691-8df6-4f0d-f096-db948d26596c"
      },
      "execution_count": 93,
      "outputs": [
        {
          "output_type": "execute_result",
          "data": {
            "text/plain": [
              "[<matplotlib.lines.Line2D at 0x7f9b66bbb160>]"
            ]
          },
          "metadata": {},
          "execution_count": 93
        },
        {
          "output_type": "display_data",
          "data": {
            "text/plain": [
              "<Figure size 432x288 with 1 Axes>"
            ],
            "image/png": "[encoded data removed]"
          },
          "metadata": {
            "needs_background": "light"
          }
        }
      ]
    }
  ]
}